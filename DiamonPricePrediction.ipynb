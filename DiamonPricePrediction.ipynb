{
  "nbformat": 4,
  "nbformat_minor": 0,
  "metadata": {
    "colab": {
      "name": "DiamonPricePrediction",
      "provenance": [],
      "collapsed_sections": [],
      "mount_file_id": "1inaPvlgnbJSoSIlfute-FbeSDQmZPwKm",
      "authorship_tag": "ABX9TyPw5i9tghtJLzV5CtQnqWK9",
      "include_colab_link": true
    },
    "kernelspec": {
      "name": "python3",
      "display_name": "Python 3"
    },
    "language_info": {
      "name": "python"
    },
    "accelerator": "GPU"
  },
  "cells": [
    {
      "cell_type": "markdown",
      "metadata": {
        "id": "view-in-github",
        "colab_type": "text"
      },
      "source": [
        "<a href=\"https://colab.research.google.com/github/dzarulhaziq/FeedForward_DiamondPricePredicitoon/blob/main/DiamonPricePrediction.ipynb\" target=\"_parent\"><img src=\"https://colab.research.google.com/assets/colab-badge.svg\" alt=\"Open In Colab\"/></a>"
      ]
    },
    {
      "cell_type": "markdown",
      "source": [
        "# 1. Import necessary packages"
      ],
      "metadata": {
        "id": "VL39ixGAa7pg"
      }
    },
    {
      "cell_type": "code",
      "execution_count": 11,
      "metadata": {
        "id": "QTnLkpu-iqE_"
      },
      "outputs": [],
      "source": [
        "import tensorflow as tf\n",
        "import numpy as np\n",
        "import pandas as pd\n",
        "from sklearn.model_selection import train_test_split\n",
        "from sklearn.preprocessing import StandardScaler, OrdinalEncoder\n",
        "import matplotlib.pyplot as plt\n",
        "import datetime\n",
        "import os"
      ]
    },
    {
      "cell_type": "markdown",
      "source": [
        "# 2. Read the dataset and identify the features and label"
      ],
      "metadata": {
        "id": "EYrRk8IobE1e"
      }
    },
    {
      "cell_type": "code",
      "source": [
        "# Importing data\n",
        "data = pd.read_csv('/content/drive/MyDrive/Colab Notebooks/Project/Miniproject2/Datasets/diamonds.csv')\n",
        "data.head()"
      ],
      "metadata": {
        "id": "11wFi1IbnFWm",
        "colab": {
          "base_uri": "https://localhost:8080/",
          "height": 206
        },
        "outputId": "7a9cfa12-6460-4f2c-d769-45fc51a057ce"
      },
      "execution_count": 12,
      "outputs": [
        {
          "output_type": "execute_result",
          "data": {
            "text/plain": [
              "   Unnamed: 0  carat      cut color clarity  depth  table  price     x     y  \\\n",
              "0           1   0.23    Ideal     E     SI2   61.5   55.0    326  3.95  3.98   \n",
              "1           2   0.21  Premium     E     SI1   59.8   61.0    326  3.89  3.84   \n",
              "2           3   0.23     Good     E     VS1   56.9   65.0    327  4.05  4.07   \n",
              "3           4   0.29  Premium     I     VS2   62.4   58.0    334  4.20  4.23   \n",
              "4           5   0.31     Good     J     SI2   63.3   58.0    335  4.34  4.35   \n",
              "\n",
              "      z  \n",
              "0  2.43  \n",
              "1  2.31  \n",
              "2  2.31  \n",
              "3  2.63  \n",
              "4  2.75  "
            ],
            "text/html": [
              "\n",
              "  <div id=\"df-4dd5e396-6d2a-4222-a60d-6ae7a306d112\">\n",
              "    <div class=\"colab-df-container\">\n",
              "      <div>\n",
              "<style scoped>\n",
              "    .dataframe tbody tr th:only-of-type {\n",
              "        vertical-align: middle;\n",
              "    }\n",
              "\n",
              "    .dataframe tbody tr th {\n",
              "        vertical-align: top;\n",
              "    }\n",
              "\n",
              "    .dataframe thead th {\n",
              "        text-align: right;\n",
              "    }\n",
              "</style>\n",
              "<table border=\"1\" class=\"dataframe\">\n",
              "  <thead>\n",
              "    <tr style=\"text-align: right;\">\n",
              "      <th></th>\n",
              "      <th>Unnamed: 0</th>\n",
              "      <th>carat</th>\n",
              "      <th>cut</th>\n",
              "      <th>color</th>\n",
              "      <th>clarity</th>\n",
              "      <th>depth</th>\n",
              "      <th>table</th>\n",
              "      <th>price</th>\n",
              "      <th>x</th>\n",
              "      <th>y</th>\n",
              "      <th>z</th>\n",
              "    </tr>\n",
              "  </thead>\n",
              "  <tbody>\n",
              "    <tr>\n",
              "      <th>0</th>\n",
              "      <td>1</td>\n",
              "      <td>0.23</td>\n",
              "      <td>Ideal</td>\n",
              "      <td>E</td>\n",
              "      <td>SI2</td>\n",
              "      <td>61.5</td>\n",
              "      <td>55.0</td>\n",
              "      <td>326</td>\n",
              "      <td>3.95</td>\n",
              "      <td>3.98</td>\n",
              "      <td>2.43</td>\n",
              "    </tr>\n",
              "    <tr>\n",
              "      <th>1</th>\n",
              "      <td>2</td>\n",
              "      <td>0.21</td>\n",
              "      <td>Premium</td>\n",
              "      <td>E</td>\n",
              "      <td>SI1</td>\n",
              "      <td>59.8</td>\n",
              "      <td>61.0</td>\n",
              "      <td>326</td>\n",
              "      <td>3.89</td>\n",
              "      <td>3.84</td>\n",
              "      <td>2.31</td>\n",
              "    </tr>\n",
              "    <tr>\n",
              "      <th>2</th>\n",
              "      <td>3</td>\n",
              "      <td>0.23</td>\n",
              "      <td>Good</td>\n",
              "      <td>E</td>\n",
              "      <td>VS1</td>\n",
              "      <td>56.9</td>\n",
              "      <td>65.0</td>\n",
              "      <td>327</td>\n",
              "      <td>4.05</td>\n",
              "      <td>4.07</td>\n",
              "      <td>2.31</td>\n",
              "    </tr>\n",
              "    <tr>\n",
              "      <th>3</th>\n",
              "      <td>4</td>\n",
              "      <td>0.29</td>\n",
              "      <td>Premium</td>\n",
              "      <td>I</td>\n",
              "      <td>VS2</td>\n",
              "      <td>62.4</td>\n",
              "      <td>58.0</td>\n",
              "      <td>334</td>\n",
              "      <td>4.20</td>\n",
              "      <td>4.23</td>\n",
              "      <td>2.63</td>\n",
              "    </tr>\n",
              "    <tr>\n",
              "      <th>4</th>\n",
              "      <td>5</td>\n",
              "      <td>0.31</td>\n",
              "      <td>Good</td>\n",
              "      <td>J</td>\n",
              "      <td>SI2</td>\n",
              "      <td>63.3</td>\n",
              "      <td>58.0</td>\n",
              "      <td>335</td>\n",
              "      <td>4.34</td>\n",
              "      <td>4.35</td>\n",
              "      <td>2.75</td>\n",
              "    </tr>\n",
              "  </tbody>\n",
              "</table>\n",
              "</div>\n",
              "      <button class=\"colab-df-convert\" onclick=\"convertToInteractive('df-4dd5e396-6d2a-4222-a60d-6ae7a306d112')\"\n",
              "              title=\"Convert this dataframe to an interactive table.\"\n",
              "              style=\"display:none;\">\n",
              "        \n",
              "  <svg xmlns=\"http://www.w3.org/2000/svg\" height=\"24px\"viewBox=\"0 0 24 24\"\n",
              "       width=\"24px\">\n",
              "    <path d=\"M0 0h24v24H0V0z\" fill=\"none\"/>\n",
              "    <path d=\"M18.56 5.44l.94 2.06.94-2.06 2.06-.94-2.06-.94-.94-2.06-.94 2.06-2.06.94zm-11 1L8.5 8.5l.94-2.06 2.06-.94-2.06-.94L8.5 2.5l-.94 2.06-2.06.94zm10 10l.94 2.06.94-2.06 2.06-.94-2.06-.94-.94-2.06-.94 2.06-2.06.94z\"/><path d=\"M17.41 7.96l-1.37-1.37c-.4-.4-.92-.59-1.43-.59-.52 0-1.04.2-1.43.59L10.3 9.45l-7.72 7.72c-.78.78-.78 2.05 0 2.83L4 21.41c.39.39.9.59 1.41.59.51 0 1.02-.2 1.41-.59l7.78-7.78 2.81-2.81c.8-.78.8-2.07 0-2.86zM5.41 20L4 18.59l7.72-7.72 1.47 1.35L5.41 20z\"/>\n",
              "  </svg>\n",
              "      </button>\n",
              "      \n",
              "  <style>\n",
              "    .colab-df-container {\n",
              "      display:flex;\n",
              "      flex-wrap:wrap;\n",
              "      gap: 12px;\n",
              "    }\n",
              "\n",
              "    .colab-df-convert {\n",
              "      background-color: #E8F0FE;\n",
              "      border: none;\n",
              "      border-radius: 50%;\n",
              "      cursor: pointer;\n",
              "      display: none;\n",
              "      fill: #1967D2;\n",
              "      height: 32px;\n",
              "      padding: 0 0 0 0;\n",
              "      width: 32px;\n",
              "    }\n",
              "\n",
              "    .colab-df-convert:hover {\n",
              "      background-color: #E2EBFA;\n",
              "      box-shadow: 0px 1px 2px rgba(60, 64, 67, 0.3), 0px 1px 3px 1px rgba(60, 64, 67, 0.15);\n",
              "      fill: #174EA6;\n",
              "    }\n",
              "\n",
              "    [theme=dark] .colab-df-convert {\n",
              "      background-color: #3B4455;\n",
              "      fill: #D2E3FC;\n",
              "    }\n",
              "\n",
              "    [theme=dark] .colab-df-convert:hover {\n",
              "      background-color: #434B5C;\n",
              "      box-shadow: 0px 1px 3px 1px rgba(0, 0, 0, 0.15);\n",
              "      filter: drop-shadow(0px 1px 2px rgba(0, 0, 0, 0.3));\n",
              "      fill: #FFFFFF;\n",
              "    }\n",
              "  </style>\n",
              "\n",
              "      <script>\n",
              "        const buttonEl =\n",
              "          document.querySelector('#df-4dd5e396-6d2a-4222-a60d-6ae7a306d112 button.colab-df-convert');\n",
              "        buttonEl.style.display =\n",
              "          google.colab.kernel.accessAllowed ? 'block' : 'none';\n",
              "\n",
              "        async function convertToInteractive(key) {\n",
              "          const element = document.querySelector('#df-4dd5e396-6d2a-4222-a60d-6ae7a306d112');\n",
              "          const dataTable =\n",
              "            await google.colab.kernel.invokeFunction('convertToInteractive',\n",
              "                                                     [key], {});\n",
              "          if (!dataTable) return;\n",
              "\n",
              "          const docLinkHtml = 'Like what you see? Visit the ' +\n",
              "            '<a target=\"_blank\" href=https://colab.research.google.com/notebooks/data_table.ipynb>data table notebook</a>'\n",
              "            + ' to learn more about interactive tables.';\n",
              "          element.innerHTML = '';\n",
              "          dataTable['output_type'] = 'display_data';\n",
              "          await google.colab.output.renderOutput(dataTable, element);\n",
              "          const docLink = document.createElement('div');\n",
              "          docLink.innerHTML = docLinkHtml;\n",
              "          element.appendChild(docLink);\n",
              "        }\n",
              "      </script>\n",
              "    </div>\n",
              "  </div>\n",
              "  "
            ]
          },
          "metadata": {},
          "execution_count": 12
        }
      ]
    },
    {
      "cell_type": "markdown",
      "source": [
        "# 3. Remove unnecessary **column**"
      ],
      "metadata": {
        "id": "M7s-6g_VbaGU"
      }
    },
    {
      "cell_type": "code",
      "source": [
        "data = data.drop('Unnamed: 0',axis=1)"
      ],
      "metadata": {
        "id": "W19OMNEYnX3s"
      },
      "execution_count": 13,
      "outputs": []
    },
    {
      "cell_type": "markdown",
      "source": [
        "# 4. Split the data into features and label"
      ],
      "metadata": {
        "id": "BToD6wFIbrRB"
      }
    },
    {
      "cell_type": "code",
      "source": [
        "data_features = data.copy()\n",
        "data_label = data_features.pop('price')"
      ],
      "metadata": {
        "id": "1EiSMjx5nadn"
      },
      "execution_count": 14,
      "outputs": []
    },
    {
      "cell_type": "markdown",
      "source": [
        "# 5. Check the data"
      ],
      "metadata": {
        "id": "JsKJQCgvb283"
      }
    },
    {
      "cell_type": "code",
      "source": [
        "print(\"------------------Features-------------------------\")\n",
        "print(data_features.head())\n",
        "print(\"-----------------Label----------------------\")\n",
        "print(data_label.head())"
      ],
      "metadata": {
        "id": "_rtvSXWXndiv",
        "colab": {
          "base_uri": "https://localhost:8080/"
        },
        "outputId": "65b15f06-af28-4632-c096-d84ec8ae2746"
      },
      "execution_count": 15,
      "outputs": [
        {
          "output_type": "stream",
          "name": "stdout",
          "text": [
            "------------------Features-------------------------\n",
            "   carat      cut color clarity  depth  table     x     y     z\n",
            "0   0.23    Ideal     E     SI2   61.5   55.0  3.95  3.98  2.43\n",
            "1   0.21  Premium     E     SI1   59.8   61.0  3.89  3.84  2.31\n",
            "2   0.23     Good     E     VS1   56.9   65.0  4.05  4.07  2.31\n",
            "3   0.29  Premium     I     VS2   62.4   58.0  4.20  4.23  2.63\n",
            "4   0.31     Good     J     SI2   63.3   58.0  4.34  4.35  2.75\n",
            "-----------------Label----------------------\n",
            "0    326\n",
            "1    326\n",
            "2    327\n",
            "3    334\n",
            "4    335\n",
            "Name: price, dtype: int64\n"
          ]
        }
      ]
    },
    {
      "cell_type": "markdown",
      "source": [
        "# 6. Ordinal encode categorical features"
      ],
      "metadata": {
        "id": "9K1JJBcjb9k-"
      }
    },
    {
      "cell_type": "code",
      "source": [
        "cut_categories = ['Fair','Good','Very Good','Premium','Ideal']\n",
        "color_categories = ['J','I','H','G','F','E','D']\n",
        "clarity_categories = ['I1','SI2','SI1','VS2','VS1','VVS2','VVS1','IF']\n",
        "ordinal_encoder = OrdinalEncoder(categories=[cut_categories,color_categories,clarity_categories])\n",
        "data_features[['cut','color','clarity']] = ordinal_encoder.fit_transform(data_features[['cut','color','clarity']])"
      ],
      "metadata": {
        "id": "3lEkA0oOneo9"
      },
      "execution_count": 16,
      "outputs": []
    },
    {
      "cell_type": "markdown",
      "source": [
        "### 6.1 Check the transformed features"
      ],
      "metadata": {
        "id": "tOIz_OhjcJNc"
      }
    },
    {
      "cell_type": "code",
      "source": [
        "print(\"---------------Transformed Features--------------------\")\n",
        "print(data_features.head())"
      ],
      "metadata": {
        "id": "3TIVYNfcp4vf",
        "colab": {
          "base_uri": "https://localhost:8080/"
        },
        "outputId": "26d4f0b9-c36b-47e4-8b92-ffe31934f9a9"
      },
      "execution_count": 17,
      "outputs": [
        {
          "output_type": "stream",
          "name": "stdout",
          "text": [
            "---------------Transformed Features--------------------\n",
            "   carat  cut  color  clarity  depth  table     x     y     z\n",
            "0   0.23  4.0    5.0      1.0   61.5   55.0  3.95  3.98  2.43\n",
            "1   0.21  3.0    5.0      2.0   59.8   61.0  3.89  3.84  2.31\n",
            "2   0.23  1.0    5.0      4.0   56.9   65.0  4.05  4.07  2.31\n",
            "3   0.29  3.0    1.0      3.0   62.4   58.0  4.20  4.23  2.63\n",
            "4   0.31  1.0    0.0      1.0   63.3   58.0  4.34  4.35  2.75\n"
          ]
        }
      ]
    },
    {
      "cell_type": "markdown",
      "source": [
        "# 7. Split the data into train-validation-test sets, with a ratio of 60:20:20"
      ],
      "metadata": {
        "id": "V9LLIK47cdFy"
      }
    },
    {
      "cell_type": "code",
      "source": [
        "SEED = 12345\n",
        "x_train,x_iter,y_train,y_iter = train_test_split(data_features,data_label,test_size=0.4,random_state=SEED)\n",
        "x_val,x_test,y_val,y_test = train_test_split(x_iter,y_iter,test_size=0.5,random_state=SEED)"
      ],
      "metadata": {
        "id": "UPSE7MLDqQna"
      },
      "execution_count": 18,
      "outputs": []
    },
    {
      "cell_type": "markdown",
      "source": [
        "# 8.  Perform feature scaling, using training data for fitting"
      ],
      "metadata": {
        "id": "GrA0I4RWcl1x"
      }
    },
    {
      "cell_type": "code",
      "source": [
        "standard_scaler = StandardScaler()\n",
        "standard_scaler.fit(x_train)\n",
        "x_train = standard_scaler.transform(x_train)\n",
        "x_val = standard_scaler.transform(x_val)\n",
        "x_test = standard_scaler.transform(x_test)"
      ],
      "metadata": {
        "id": "TrN3RzjeqTbP"
      },
      "execution_count": 19,
      "outputs": []
    },
    {
      "cell_type": "markdown",
      "source": [
        "# 9. Create a feedforward neural network using TensorFlow Keras"
      ],
      "metadata": {
        "id": "jC2RHQzHc-s9"
      }
    },
    {
      "cell_type": "code",
      "source": [
        "number_input = x_train.shape[-1]\n",
        "model = tf.keras.Sequential()\n",
        "model.add(tf.keras.layers.InputLayer(input_shape=number_input))\n",
        "model.add(tf.keras.layers.Dense(128,activation='elu'))\n",
        "model.add(tf.keras.layers.Dense(64,activation='elu'))\n",
        "model.add(tf.keras.layers.Dense(32,activation='elu'))\n",
        "model.add(tf.keras.layers.Dropout(0.3))\n",
        "model.add(tf.keras.layers.Dense(1))"
      ],
      "metadata": {
        "id": "zPGaoeApqv41"
      },
      "execution_count": 20,
      "outputs": []
    },
    {
      "cell_type": "markdown",
      "source": [
        "# 10.Compile the model"
      ],
      "metadata": {
        "id": "RBPQeq4sdFqM"
      }
    },
    {
      "cell_type": "code",
      "source": [
        "model.compile(optimizer='adam',loss='mse',metrics=['mae','mse'])"
      ],
      "metadata": {
        "id": "9TwFsI9OqxYi"
      },
      "execution_count": 21,
      "outputs": []
    },
    {
      "cell_type": "markdown",
      "source": [
        "# 11. Train and evaluate the model with validation data"
      ],
      "metadata": {
        "id": "WNf1Y41PdMk0"
      }
    },
    {
      "cell_type": "code",
      "source": [
        "base_log_path = r\"/content/drive/MyDrive/Colab Notebooks/Log\"\n",
        "log_path = os.path.join(base_log_path, datetime.datetime.now().strftime(\"%Y%m%d-%H%M%S\"))\n",
        "EPOCHS = 100\n",
        "BATCH_SIZE=64\n",
        "history = model.fit(x_train,y_train,validation_data=(x_val,y_val),batch_size=BATCH_SIZE,epochs=EPOCHS)"
      ],
      "metadata": {
        "colab": {
          "base_uri": "https://localhost:8080/"
        },
        "id": "c5QhNeVQqzuK",
        "outputId": "e7767897-1e89-4056-853a-5c3f65d2f2b3"
      },
      "execution_count": 22,
      "outputs": [
        {
          "output_type": "stream",
          "name": "stdout",
          "text": [
            "Epoch 1/100\n",
            "506/506 [==============================] - 6s 6ms/step - loss: 12107088.0000 - mae: 2208.6848 - mse: 12107088.0000 - val_loss: 2087632.5000 - val_mae: 1024.2738 - val_mse: 2087632.5000\n",
            "Epoch 2/100\n",
            "506/506 [==============================] - 2s 5ms/step - loss: 2291296.5000 - mae: 1062.5023 - mse: 2291296.5000 - val_loss: 1620329.8750 - val_mae: 818.5111 - val_mse: 1620329.8750\n",
            "Epoch 3/100\n",
            "506/506 [==============================] - 2s 5ms/step - loss: 2095894.7500 - mae: 979.7665 - mse: 2095894.7500 - val_loss: 1527308.3750 - val_mae: 771.4868 - val_mse: 1527308.3750\n",
            "Epoch 4/100\n",
            "506/506 [==============================] - 3s 5ms/step - loss: 1986427.8750 - mae: 918.2298 - mse: 1986427.8750 - val_loss: 1279656.0000 - val_mae: 681.1892 - val_mse: 1279656.0000\n",
            "Epoch 5/100\n",
            "506/506 [==============================] - 3s 5ms/step - loss: 1802248.7500 - mae: 838.6428 - mse: 1802248.7500 - val_loss: 1097266.7500 - val_mae: 601.7502 - val_mse: 1097266.7500\n",
            "Epoch 6/100\n",
            "506/506 [==============================] - 3s 5ms/step - loss: 1697255.0000 - mae: 799.5787 - mse: 1697255.0000 - val_loss: 988782.9375 - val_mae: 575.1191 - val_mse: 988782.9375\n",
            "Epoch 7/100\n",
            "506/506 [==============================] - 3s 5ms/step - loss: 1641301.2500 - mae: 789.3492 - mse: 1641301.2500 - val_loss: 930564.7500 - val_mae: 563.0635 - val_mse: 930564.7500\n",
            "Epoch 8/100\n",
            "506/506 [==============================] - 2s 5ms/step - loss: 1565264.5000 - mae: 779.9406 - mse: 1565264.5000 - val_loss: 872929.6250 - val_mae: 561.7534 - val_mse: 872929.6250\n",
            "Epoch 9/100\n",
            "506/506 [==============================] - 2s 5ms/step - loss: 1575579.6250 - mae: 775.4191 - mse: 1575579.6250 - val_loss: 868439.5000 - val_mae: 541.6861 - val_mse: 868439.5000\n",
            "Epoch 10/100\n",
            "506/506 [==============================] - 2s 5ms/step - loss: 1530058.7500 - mae: 758.5376 - mse: 1530058.7500 - val_loss: 822142.3125 - val_mae: 530.5573 - val_mse: 822142.3125\n",
            "Epoch 11/100\n",
            "506/506 [==============================] - 3s 5ms/step - loss: 1520047.6250 - mae: 748.7367 - mse: 1520047.6250 - val_loss: 772207.8750 - val_mae: 506.6078 - val_mse: 772207.8750\n",
            "Epoch 12/100\n",
            "506/506 [==============================] - 2s 5ms/step - loss: 1463935.7500 - mae: 727.4825 - mse: 1463935.7500 - val_loss: 717954.2500 - val_mae: 481.7029 - val_mse: 717954.2500\n",
            "Epoch 13/100\n",
            "506/506 [==============================] - 2s 5ms/step - loss: 1404857.5000 - mae: 706.7491 - mse: 1404857.5000 - val_loss: 689659.7500 - val_mae: 465.3816 - val_mse: 689659.7500\n",
            "Epoch 14/100\n",
            "506/506 [==============================] - 3s 5ms/step - loss: 1395529.5000 - mae: 688.1389 - mse: 1395529.5000 - val_loss: 620508.8125 - val_mae: 434.9601 - val_mse: 620508.8125\n",
            "Epoch 15/100\n",
            "506/506 [==============================] - 2s 5ms/step - loss: 1363129.1250 - mae: 675.5256 - mse: 1363129.1250 - val_loss: 620336.6250 - val_mae: 434.8873 - val_mse: 620336.6250\n",
            "Epoch 16/100\n",
            "506/506 [==============================] - 3s 5ms/step - loss: 1317995.0000 - mae: 665.6470 - mse: 1317995.0000 - val_loss: 599307.5625 - val_mae: 414.7938 - val_mse: 599307.5625\n",
            "Epoch 17/100\n",
            "506/506 [==============================] - 2s 5ms/step - loss: 1360469.8750 - mae: 659.7317 - mse: 1360469.8750 - val_loss: 576044.2500 - val_mae: 410.5471 - val_mse: 576044.2500\n",
            "Epoch 18/100\n",
            "506/506 [==============================] - 2s 5ms/step - loss: 1300948.0000 - mae: 650.9910 - mse: 1300948.0000 - val_loss: 582462.6250 - val_mae: 388.8476 - val_mse: 582462.6250\n",
            "Epoch 19/100\n",
            "506/506 [==============================] - 2s 5ms/step - loss: 1245308.7500 - mae: 642.8066 - mse: 1245308.7500 - val_loss: 600164.6250 - val_mae: 400.4834 - val_mse: 600164.6250\n",
            "Epoch 20/100\n",
            "506/506 [==============================] - 2s 5ms/step - loss: 1273601.7500 - mae: 642.9336 - mse: 1273601.7500 - val_loss: 615860.3750 - val_mae: 373.7033 - val_mse: 615860.3750\n",
            "Epoch 21/100\n",
            "506/506 [==============================] - 3s 5ms/step - loss: 1221434.7500 - mae: 635.8922 - mse: 1221434.7500 - val_loss: 576506.0000 - val_mae: 384.6343 - val_mse: 576506.0000\n",
            "Epoch 22/100\n",
            "506/506 [==============================] - 3s 5ms/step - loss: 1205512.3750 - mae: 628.6063 - mse: 1205512.3750 - val_loss: 590042.8125 - val_mae: 365.3437 - val_mse: 590042.8125\n",
            "Epoch 23/100\n",
            "506/506 [==============================] - 2s 5ms/step - loss: 1225575.5000 - mae: 627.5814 - mse: 1225575.5000 - val_loss: 621459.2500 - val_mae: 390.1199 - val_mse: 621459.2500\n",
            "Epoch 24/100\n",
            "506/506 [==============================] - 3s 5ms/step - loss: 1247982.7500 - mae: 632.0687 - mse: 1247982.7500 - val_loss: 645211.0625 - val_mae: 369.7241 - val_mse: 645211.0625\n",
            "Epoch 25/100\n",
            "506/506 [==============================] - 2s 5ms/step - loss: 1232975.2500 - mae: 633.3602 - mse: 1232975.2500 - val_loss: 784770.5625 - val_mae: 393.8470 - val_mse: 784770.5625\n",
            "Epoch 26/100\n",
            "506/506 [==============================] - 3s 5ms/step - loss: 1224782.2500 - mae: 627.2578 - mse: 1224782.2500 - val_loss: 730684.8125 - val_mae: 352.3402 - val_mse: 730684.8125\n",
            "Epoch 27/100\n",
            "506/506 [==============================] - 3s 5ms/step - loss: 1209158.5000 - mae: 621.8943 - mse: 1209158.5000 - val_loss: 789727.9375 - val_mae: 354.8058 - val_mse: 789727.9375\n",
            "Epoch 28/100\n",
            "506/506 [==============================] - 3s 5ms/step - loss: 1207752.0000 - mae: 622.2567 - mse: 1207752.0000 - val_loss: 762047.8750 - val_mae: 350.3418 - val_mse: 762047.8750\n",
            "Epoch 29/100\n",
            "506/506 [==============================] - 3s 6ms/step - loss: 1185159.8750 - mae: 613.0485 - mse: 1185159.8750 - val_loss: 802599.5625 - val_mae: 360.2603 - val_mse: 802599.5625\n",
            "Epoch 30/100\n",
            "506/506 [==============================] - 2s 5ms/step - loss: 1198558.1250 - mae: 616.1150 - mse: 1198558.1250 - val_loss: 810736.0625 - val_mae: 352.7739 - val_mse: 810736.0625\n",
            "Epoch 31/100\n",
            "506/506 [==============================] - 2s 5ms/step - loss: 1165431.3750 - mae: 612.7053 - mse: 1165431.3750 - val_loss: 795021.5000 - val_mae: 355.0391 - val_mse: 795021.5000\n",
            "Epoch 32/100\n",
            "506/506 [==============================] - 2s 5ms/step - loss: 1199259.5000 - mae: 616.2452 - mse: 1199259.5000 - val_loss: 846594.0625 - val_mae: 362.9615 - val_mse: 846594.0625\n",
            "Epoch 33/100\n",
            "506/506 [==============================] - 2s 5ms/step - loss: 1208171.0000 - mae: 616.3950 - mse: 1208171.0000 - val_loss: 975141.1250 - val_mae: 360.5735 - val_mse: 975141.1250\n",
            "Epoch 34/100\n",
            "506/506 [==============================] - 3s 6ms/step - loss: 1178528.7500 - mae: 611.6915 - mse: 1178528.7500 - val_loss: 899381.9375 - val_mae: 342.4555 - val_mse: 899381.9375\n",
            "Epoch 35/100\n",
            "506/506 [==============================] - 2s 5ms/step - loss: 1153827.6250 - mae: 606.4650 - mse: 1153827.6250 - val_loss: 956975.0000 - val_mae: 343.3127 - val_mse: 956975.0000\n",
            "Epoch 36/100\n",
            "506/506 [==============================] - 3s 6ms/step - loss: 1181274.2500 - mae: 608.8854 - mse: 1181274.2500 - val_loss: 954263.9375 - val_mae: 342.1384 - val_mse: 954263.9375\n",
            "Epoch 37/100\n",
            "506/506 [==============================] - 3s 7ms/step - loss: 1222743.8750 - mae: 615.7818 - mse: 1222743.8750 - val_loss: 927902.1250 - val_mae: 352.0378 - val_mse: 927902.1250\n",
            "Epoch 38/100\n",
            "506/506 [==============================] - 3s 6ms/step - loss: 1182819.8750 - mae: 609.2771 - mse: 1182819.8750 - val_loss: 1110918.5000 - val_mae: 341.7343 - val_mse: 1110918.5000\n",
            "Epoch 39/100\n",
            "506/506 [==============================] - 2s 5ms/step - loss: 1185172.3750 - mae: 606.8213 - mse: 1185172.3750 - val_loss: 1028689.3750 - val_mae: 346.4076 - val_mse: 1028689.3750\n",
            "Epoch 40/100\n",
            "506/506 [==============================] - 2s 5ms/step - loss: 1153209.2500 - mae: 602.4850 - mse: 1153209.2500 - val_loss: 1078672.5000 - val_mae: 336.2478 - val_mse: 1078672.5000\n",
            "Epoch 41/100\n",
            "506/506 [==============================] - 2s 5ms/step - loss: 1200342.0000 - mae: 608.5184 - mse: 1200342.0000 - val_loss: 1053966.6250 - val_mae: 350.4866 - val_mse: 1053966.6250\n",
            "Epoch 42/100\n",
            "506/506 [==============================] - 3s 5ms/step - loss: 1170961.2500 - mae: 606.9973 - mse: 1170961.2500 - val_loss: 1128985.2500 - val_mae: 340.7863 - val_mse: 1128985.2500\n",
            "Epoch 43/100\n",
            "506/506 [==============================] - 4s 7ms/step - loss: 1187309.8750 - mae: 605.3935 - mse: 1187309.8750 - val_loss: 1051589.3750 - val_mae: 349.2176 - val_mse: 1051589.3750\n",
            "Epoch 44/100\n",
            "506/506 [==============================] - 2s 5ms/step - loss: 1170776.8750 - mae: 602.8173 - mse: 1170776.8750 - val_loss: 1205383.8750 - val_mae: 340.2454 - val_mse: 1205383.8750\n",
            "Epoch 45/100\n",
            "506/506 [==============================] - 2s 5ms/step - loss: 1161374.5000 - mae: 604.8728 - mse: 1161374.5000 - val_loss: 1252151.6250 - val_mae: 347.4265 - val_mse: 1252151.6250\n",
            "Epoch 46/100\n",
            "506/506 [==============================] - 2s 5ms/step - loss: 1183551.7500 - mae: 604.2652 - mse: 1183551.7500 - val_loss: 1205562.8750 - val_mae: 364.3541 - val_mse: 1205562.8750\n",
            "Epoch 47/100\n",
            "506/506 [==============================] - 3s 5ms/step - loss: 1180618.2500 - mae: 603.6546 - mse: 1180618.2500 - val_loss: 1147630.8750 - val_mae: 339.8706 - val_mse: 1147630.8750\n",
            "Epoch 48/100\n",
            "506/506 [==============================] - 2s 5ms/step - loss: 1162585.2500 - mae: 603.6390 - mse: 1162585.2500 - val_loss: 1171698.3750 - val_mae: 370.3516 - val_mse: 1171698.3750\n",
            "Epoch 49/100\n",
            "506/506 [==============================] - 3s 5ms/step - loss: 1158871.8750 - mae: 601.3259 - mse: 1158871.8750 - val_loss: 1157614.0000 - val_mae: 366.1049 - val_mse: 1157614.0000\n",
            "Epoch 50/100\n",
            "506/506 [==============================] - 2s 5ms/step - loss: 1132187.6250 - mae: 597.0984 - mse: 1132187.6250 - val_loss: 1273800.8750 - val_mae: 353.7160 - val_mse: 1273800.8750\n",
            "Epoch 51/100\n",
            "506/506 [==============================] - 3s 5ms/step - loss: 1171553.2500 - mae: 600.6696 - mse: 1171553.2500 - val_loss: 1234404.0000 - val_mae: 354.5739 - val_mse: 1234404.0000\n",
            "Epoch 52/100\n",
            "506/506 [==============================] - 3s 5ms/step - loss: 1134893.2500 - mae: 594.9707 - mse: 1134893.2500 - val_loss: 1224618.2500 - val_mae: 360.0074 - val_mse: 1224618.2500\n",
            "Epoch 53/100\n",
            "506/506 [==============================] - 3s 5ms/step - loss: 1123828.3750 - mae: 593.9116 - mse: 1123828.3750 - val_loss: 1242770.7500 - val_mae: 334.9998 - val_mse: 1242770.7500\n",
            "Epoch 54/100\n",
            "506/506 [==============================] - 2s 5ms/step - loss: 1138633.3750 - mae: 596.0919 - mse: 1138633.3750 - val_loss: 1287428.1250 - val_mae: 333.4366 - val_mse: 1287428.1250\n",
            "Epoch 55/100\n",
            "506/506 [==============================] - 3s 5ms/step - loss: 1152632.7500 - mae: 597.6218 - mse: 1152632.7500 - val_loss: 1310593.1250 - val_mae: 331.0428 - val_mse: 1310593.1250\n",
            "Epoch 56/100\n",
            "506/506 [==============================] - 2s 5ms/step - loss: 1123525.8750 - mae: 593.9663 - mse: 1123525.8750 - val_loss: 1258504.1250 - val_mae: 364.3576 - val_mse: 1258504.1250\n",
            "Epoch 57/100\n",
            "506/506 [==============================] - 2s 5ms/step - loss: 1142550.6250 - mae: 595.7038 - mse: 1142550.6250 - val_loss: 1283810.6250 - val_mae: 339.7588 - val_mse: 1283810.6250\n",
            "Epoch 58/100\n",
            "506/506 [==============================] - 3s 5ms/step - loss: 1141956.2500 - mae: 596.8624 - mse: 1141956.2500 - val_loss: 1360833.6250 - val_mae: 350.1424 - val_mse: 1360833.6250\n",
            "Epoch 59/100\n",
            "506/506 [==============================] - 2s 5ms/step - loss: 1141248.2500 - mae: 596.6043 - mse: 1141248.2500 - val_loss: 1328000.7500 - val_mae: 353.4250 - val_mse: 1328000.7500\n",
            "Epoch 60/100\n",
            "506/506 [==============================] - 3s 5ms/step - loss: 1131267.8750 - mae: 591.1400 - mse: 1131267.8750 - val_loss: 1328587.0000 - val_mae: 341.0595 - val_mse: 1328587.0000\n",
            "Epoch 61/100\n",
            "506/506 [==============================] - 3s 5ms/step - loss: 1105466.5000 - mae: 590.7932 - mse: 1105466.5000 - val_loss: 1373234.2500 - val_mae: 361.2921 - val_mse: 1373234.2500\n",
            "Epoch 62/100\n",
            "506/506 [==============================] - 3s 5ms/step - loss: 1132581.1250 - mae: 591.9515 - mse: 1132581.1250 - val_loss: 1378720.0000 - val_mae: 349.5390 - val_mse: 1378720.0000\n",
            "Epoch 63/100\n",
            "506/506 [==============================] - 3s 5ms/step - loss: 1133622.6250 - mae: 591.0241 - mse: 1133622.6250 - val_loss: 1487478.3750 - val_mae: 329.6729 - val_mse: 1487478.3750\n",
            "Epoch 64/100\n",
            "506/506 [==============================] - 2s 5ms/step - loss: 1107310.0000 - mae: 584.1681 - mse: 1107310.0000 - val_loss: 1488345.6250 - val_mae: 335.4770 - val_mse: 1488345.6250\n",
            "Epoch 65/100\n",
            "506/506 [==============================] - 3s 5ms/step - loss: 1124608.1250 - mae: 590.1674 - mse: 1124608.1250 - val_loss: 1479115.3750 - val_mae: 332.7689 - val_mse: 1479115.3750\n",
            "Epoch 66/100\n",
            "506/506 [==============================] - 3s 5ms/step - loss: 1132860.7500 - mae: 591.8586 - mse: 1132860.7500 - val_loss: 1414751.1250 - val_mae: 350.9003 - val_mse: 1414751.1250\n",
            "Epoch 67/100\n",
            "506/506 [==============================] - 2s 5ms/step - loss: 1136911.5000 - mae: 589.7653 - mse: 1136911.5000 - val_loss: 1452814.7500 - val_mae: 370.9564 - val_mse: 1452814.7500\n",
            "Epoch 68/100\n",
            "506/506 [==============================] - 2s 5ms/step - loss: 1108508.6250 - mae: 586.1237 - mse: 1108508.6250 - val_loss: 1457547.1250 - val_mae: 355.6926 - val_mse: 1457547.1250\n",
            "Epoch 69/100\n",
            "506/506 [==============================] - 3s 5ms/step - loss: 1096140.8750 - mae: 584.6810 - mse: 1096140.8750 - val_loss: 1529046.2500 - val_mae: 334.5332 - val_mse: 1529046.2500\n",
            "Epoch 70/100\n",
            "506/506 [==============================] - 2s 5ms/step - loss: 1140927.3750 - mae: 592.8605 - mse: 1140927.3750 - val_loss: 1579356.2500 - val_mae: 329.5237 - val_mse: 1579356.2500\n",
            "Epoch 71/100\n",
            "506/506 [==============================] - 3s 5ms/step - loss: 1119815.1250 - mae: 589.6932 - mse: 1119815.1250 - val_loss: 1498517.7500 - val_mae: 340.1838 - val_mse: 1498517.7500\n",
            "Epoch 72/100\n",
            "506/506 [==============================] - 2s 5ms/step - loss: 1103155.2500 - mae: 585.9333 - mse: 1103155.2500 - val_loss: 1557082.6250 - val_mae: 335.5247 - val_mse: 1557082.6250\n",
            "Epoch 73/100\n",
            "506/506 [==============================] - 2s 5ms/step - loss: 1103251.2500 - mae: 583.5830 - mse: 1103251.2500 - val_loss: 1563591.7500 - val_mae: 326.6958 - val_mse: 1563591.7500\n",
            "Epoch 74/100\n",
            "506/506 [==============================] - 2s 5ms/step - loss: 1108465.5000 - mae: 583.0931 - mse: 1108465.5000 - val_loss: 1587528.3750 - val_mae: 343.4186 - val_mse: 1587528.3750\n",
            "Epoch 75/100\n",
            "506/506 [==============================] - 2s 5ms/step - loss: 1075384.1250 - mae: 581.9360 - mse: 1075384.1250 - val_loss: 1609004.8750 - val_mae: 333.3045 - val_mse: 1609004.8750\n",
            "Epoch 76/100\n",
            "506/506 [==============================] - 3s 6ms/step - loss: 1108576.2500 - mae: 587.4230 - mse: 1108576.2500 - val_loss: 1547239.0000 - val_mae: 351.9507 - val_mse: 1547239.0000\n",
            "Epoch 77/100\n",
            "506/506 [==============================] - 2s 5ms/step - loss: 1135650.1250 - mae: 592.1469 - mse: 1135650.1250 - val_loss: 1597426.5000 - val_mae: 344.3482 - val_mse: 1597426.5000\n",
            "Epoch 78/100\n",
            "506/506 [==============================] - 3s 5ms/step - loss: 1139492.2500 - mae: 589.6218 - mse: 1139492.2500 - val_loss: 1648454.0000 - val_mae: 334.4647 - val_mse: 1648454.0000\n",
            "Epoch 79/100\n",
            "506/506 [==============================] - 3s 6ms/step - loss: 1111121.7500 - mae: 583.1158 - mse: 1111121.7500 - val_loss: 1622667.5000 - val_mae: 341.4179 - val_mse: 1622667.5000\n",
            "Epoch 80/100\n",
            "506/506 [==============================] - 2s 5ms/step - loss: 1098095.6250 - mae: 587.1180 - mse: 1098095.6250 - val_loss: 1696225.3750 - val_mae: 328.1396 - val_mse: 1696225.3750\n",
            "Epoch 81/100\n",
            "506/506 [==============================] - 2s 5ms/step - loss: 1114679.8750 - mae: 584.0017 - mse: 1114679.8750 - val_loss: 1626921.5000 - val_mae: 339.2338 - val_mse: 1626921.5000\n",
            "Epoch 82/100\n",
            "506/506 [==============================] - 3s 5ms/step - loss: 1105576.3750 - mae: 584.0909 - mse: 1105576.3750 - val_loss: 1596007.2500 - val_mae: 337.1591 - val_mse: 1596007.2500\n",
            "Epoch 83/100\n",
            "506/506 [==============================] - 3s 5ms/step - loss: 1098870.8750 - mae: 581.8331 - mse: 1098870.8750 - val_loss: 1676448.2500 - val_mae: 328.3084 - val_mse: 1676448.2500\n",
            "Epoch 84/100\n",
            "506/506 [==============================] - 2s 5ms/step - loss: 1092573.5000 - mae: 580.4963 - mse: 1092573.5000 - val_loss: 1722850.2500 - val_mae: 337.8228 - val_mse: 1722850.2500\n",
            "Epoch 85/100\n",
            "506/506 [==============================] - 2s 5ms/step - loss: 1116146.5000 - mae: 583.3414 - mse: 1116146.5000 - val_loss: 1670567.8750 - val_mae: 331.1261 - val_mse: 1670567.8750\n",
            "Epoch 86/100\n",
            "506/506 [==============================] - 2s 5ms/step - loss: 1057704.0000 - mae: 574.2774 - mse: 1057704.0000 - val_loss: 1706314.0000 - val_mae: 344.1749 - val_mse: 1706314.0000\n",
            "Epoch 87/100\n",
            "506/506 [==============================] - 3s 5ms/step - loss: 1095841.7500 - mae: 580.0554 - mse: 1095841.7500 - val_loss: 1746404.8750 - val_mae: 335.6193 - val_mse: 1746404.8750\n",
            "Epoch 88/100\n",
            "506/506 [==============================] - 2s 5ms/step - loss: 1092227.2500 - mae: 577.5082 - mse: 1092227.2500 - val_loss: 1730803.0000 - val_mae: 333.9543 - val_mse: 1730803.0000\n",
            "Epoch 89/100\n",
            "506/506 [==============================] - 2s 5ms/step - loss: 1067384.2500 - mae: 573.7716 - mse: 1067384.2500 - val_loss: 1775997.6250 - val_mae: 331.9926 - val_mse: 1775997.6250\n",
            "Epoch 90/100\n",
            "506/506 [==============================] - 2s 5ms/step - loss: 1112173.7500 - mae: 581.0752 - mse: 1112173.7500 - val_loss: 1758787.7500 - val_mae: 341.5468 - val_mse: 1758787.7500\n",
            "Epoch 91/100\n",
            "506/506 [==============================] - 3s 5ms/step - loss: 1097202.2500 - mae: 580.2266 - mse: 1097202.2500 - val_loss: 1773926.3750 - val_mae: 352.0137 - val_mse: 1773926.3750\n",
            "Epoch 92/100\n",
            "506/506 [==============================] - 2s 5ms/step - loss: 1063522.8750 - mae: 569.8757 - mse: 1063522.8750 - val_loss: 1765909.1250 - val_mae: 349.6548 - val_mse: 1765909.1250\n",
            "Epoch 93/100\n",
            "506/506 [==============================] - 3s 5ms/step - loss: 1085467.0000 - mae: 576.0079 - mse: 1085467.0000 - val_loss: 1870950.8750 - val_mae: 328.2658 - val_mse: 1870950.8750\n",
            "Epoch 94/100\n",
            "506/506 [==============================] - 3s 5ms/step - loss: 1141749.8750 - mae: 583.4606 - mse: 1141749.8750 - val_loss: 1779224.5000 - val_mae: 339.2412 - val_mse: 1779224.5000\n",
            "Epoch 95/100\n",
            "506/506 [==============================] - 3s 5ms/step - loss: 1105821.2500 - mae: 579.2800 - mse: 1105821.2500 - val_loss: 1788375.6250 - val_mae: 354.3028 - val_mse: 1788375.6250\n",
            "Epoch 96/100\n",
            "506/506 [==============================] - 2s 5ms/step - loss: 1082150.2500 - mae: 575.0662 - mse: 1082150.2500 - val_loss: 1780385.0000 - val_mae: 341.2232 - val_mse: 1780385.0000\n",
            "Epoch 97/100\n",
            "506/506 [==============================] - 3s 5ms/step - loss: 1072407.8750 - mae: 574.8960 - mse: 1072407.8750 - val_loss: 1781455.6250 - val_mae: 348.3431 - val_mse: 1781455.6250\n",
            "Epoch 98/100\n",
            "506/506 [==============================] - 2s 5ms/step - loss: 1093461.1250 - mae: 575.0876 - mse: 1093461.1250 - val_loss: 1790882.0000 - val_mae: 355.0016 - val_mse: 1790882.0000\n",
            "Epoch 99/100\n",
            "506/506 [==============================] - 2s 5ms/step - loss: 1066529.2500 - mae: 572.9394 - mse: 1066529.2500 - val_loss: 1809470.8750 - val_mae: 331.7141 - val_mse: 1809470.8750\n",
            "Epoch 100/100\n",
            "506/506 [==============================] - 3s 5ms/step - loss: 1074901.0000 - mae: 571.3531 - mse: 1074901.0000 - val_loss: 1804281.0000 - val_mae: 347.9800 - val_mse: 1804281.0000\n"
          ]
        }
      ]
    },
    {
      "cell_type": "markdown",
      "source": [
        "#12. Evaluate with test data for wild testing"
      ],
      "metadata": {
        "id": "YFIuFPSFdf1x"
      }
    },
    {
      "cell_type": "code",
      "source": [
        "test_result = model.evaluate(x_test,y_test,batch_size=BATCH_SIZE)\n",
        "print(f\"Test loss = {test_result[0]}\")\n",
        "print(f\"Test MAE = {test_result[1]}\")\n",
        "print(f\"Test MSE = {test_result[2]}\")"
      ],
      "metadata": {
        "id": "B6lE1l1yq21K",
        "colab": {
          "base_uri": "https://localhost:8080/"
        },
        "outputId": "1ad059f0-a927-4089-a350-3f7f72dd21a8"
      },
      "execution_count": 23,
      "outputs": [
        {
          "output_type": "stream",
          "name": "stdout",
          "text": [
            "169/169 [==============================] - 1s 3ms/step - loss: 740780.1875 - mae: 331.3981 - mse: 740780.1875\n",
            "Test loss = 740780.1875\n",
            "Test MAE = 331.39813232421875\n",
            "Test MSE = 740780.1875\n"
          ]
        }
      ]
    },
    {
      "cell_type": "markdown",
      "source": [
        "#12. Plot a graph of prediction vs label on test data"
      ],
      "metadata": {
        "id": "hUCgSWNjdjy4"
      }
    },
    {
      "cell_type": "code",
      "source": [
        "predictions = np.squeeze(model.predict(x_test))\n",
        "labels = np.squeeze(y_test)\n",
        "plt.plot(predictions,labels,\".\")\n",
        "plt.xlabel(\"Predictions\")\n",
        "plt.ylabel(\"Labels\")\n",
        "plt.title(\"Graph of Predictions vs Labels with Test Data\")\n",
        "save_path = r\"/content/drive/MyDrive/Colab Notebooks/DiamondPrediction_graph\"\n",
        "plt.savefig(os.path.join(save_path,\"result.png\"),bbox_inches='tight')\n",
        "plt.show()"
      ],
      "metadata": {
        "id": "upYz0vEH4wzy",
        "colab": {
          "base_uri": "https://localhost:8080/",
          "height": 295
        },
        "outputId": "00cea17c-c779-4211-f4c6-bc57abddfbc3"
      },
      "execution_count": 24,
      "outputs": [
        {
          "output_type": "display_data",
          "data": {
            "text/plain": [
              "<Figure size 432x288 with 1 Axes>"
            ],
            "image/png": "[encoded data removed]"
          },
          "metadata": {
            "needs_background": "light"
          }
        }
      ]
    }
  ]
}